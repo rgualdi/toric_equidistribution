{
 "cells": [
  {
   "cell_type": "markdown",
   "id": "66889c9a",
   "metadata": {},
   "source": [
    "# Toric equidistribution of points of small heights in dimension $1$"
   ]
  },
  {
   "cell_type": "markdown",
   "id": "1412b8e3",
   "metadata": {},
   "source": [
    "### Roberto Gualdi"
   ]
  },
  {
   "cell_type": "markdown",
   "id": "8306857c",
   "metadata": {},
   "source": [
    "_Notebook run over SageMath 9.7_"
   ]
  },
  {
   "cell_type": "markdown",
   "id": "4ea89d96",
   "metadata": {},
   "source": [
    "## Abstract"
   ]
  },
  {
   "cell_type": "markdown",
   "id": "80100ee5",
   "metadata": {},
   "source": [
    "This notebook provides the companion code of our paper \"**Limit heights and special values of the Riemann zeta function**\" [GS22], which studies the (canonical) height of the intersection point $P(\\omega)$ of the projective plane lines"
   ]
  },
  {
   "cell_type": "markdown",
   "id": "cb77f7cd",
   "metadata": {},
   "source": [
    "## The code"
   ]
  },
  {
   "cell_type": "markdown",
   "id": "6eafb4dc",
   "metadata": {},
   "source": [
    "### Initialization"
   ]
  },
  {
   "cell_type": "markdown",
   "id": "e65b8553",
   "metadata": {},
   "source": [
    "ajkfbbkfbzdf"
   ]
  },
  {
   "cell_type": "code",
   "execution_count": 1,
   "id": "2b5fe571",
   "metadata": {},
   "outputs": [],
   "source": [
    "R.<x> = PolynomialRing(QQ)"
   ]
  },
  {
   "cell_type": "markdown",
   "id": "96780a48",
   "metadata": {},
   "source": [
    "### Finding monic irreducible polynomials of given degree"
   ]
  },
  {
   "cell_type": "markdown",
   "id": "945c6c77",
   "metadata": {},
   "source": [
    "this first function produces a random irreducible univariate polynomial of given degree over QQ, with coefficients integer numbers between -B and B"
   ]
  },
  {
   "cell_type": "code",
   "execution_count": 14,
   "id": "391968f5",
   "metadata": {},
   "outputs": [],
   "source": [
    "def random_irreducible_polynomial(B,d):\n",
    "    \n",
    "    b=False\n",
    "    a=vector(ZZ,d+1)\n",
    "    \n",
    "    while b == False:\n",
    "        for i in range(d+1):\n",
    "            a[i] = ZZ.random_element(-B,B+1)\n",
    "            P=R(list(a))\n",
    "            b=(a[d]==1)&(P.is_irreducible())\n",
    "    return P"
   ]
  },
  {
   "cell_type": "markdown",
   "id": "0aedd19b",
   "metadata": {},
   "source": [
    "### Drawing zeros"
   ]
  },
  {
   "cell_type": "markdown",
   "id": "44eda622",
   "metadata": {},
   "source": [
    "this second function shows on the complex plane the roots of a random irreducible univariate polynomial of given degree over QQ, with coefficients between -B and B"
   ]
  },
  {
   "cell_type": "code",
   "execution_count": 15,
   "id": "beab9ceb",
   "metadata": {},
   "outputs": [],
   "source": [
    "def zeros_random_irreducible_polynomial(B,d):\n",
    "    Sol=vector(CC,d)\n",
    "    P = random_irreducible_polynomial(B,d)\n",
    "    print('The polynomial')\n",
    "    print('')\n",
    "    print(P)\n",
    "    print('')\n",
    "    print('is irreducible of degree ', d,'. Its complex roots are depicted here:')\n",
    "    S=P.roots(ring=QQbar)\n",
    "    for i in range(d):\n",
    "        Sol[i] = S[i][0]\n",
    "    show(point(Sol),aspect_ratio=1)"
   ]
  },
  {
   "cell_type": "markdown",
   "id": "88d08629",
   "metadata": {},
   "source": [
    "We can test it and see."
   ]
  },
  {
   "cell_type": "code",
   "execution_count": 16,
   "id": "68591efb",
   "metadata": {},
   "outputs": [
    {
     "name": "stdout",
     "output_type": "stream",
     "text": [
      "The polynomial\n",
      "\n",
      "x^5 - x^3 + x^2 + 1\n",
      "\n",
      "is irreducible of degree  5 . Its complex roots are depicted here:\n"
     ]
    },
    {
     "data": {
      "image/png": "[encoded data removed]",
      "text/plain": [
       "Graphics object consisting of 1 graphics primitive"
      ]
     },
     "metadata": {},
     "output_type": "display_data"
    }
   ],
   "source": [
    "zeros_random_irreducible_polynomial(1,5)"
   ]
  },
  {
   "cell_type": "markdown",
   "id": "afe99064",
   "metadata": {},
   "source": [
    "### Equidistribution"
   ]
  },
  {
   "cell_type": "markdown",
   "id": "6cf9922c",
   "metadata": {},
   "source": [
    "Here we allow to represent the result for different values of d, given in input as a vector, and a fixed B.\n",
    "\n",
    "Also, the pictures are cutted for a more pleasant rendering."
   ]
  },
  {
   "cell_type": "code",
   "execution_count": null,
   "id": "fb2092b8",
   "metadata": {},
   "outputs": [],
   "source": [
    "# use  show(point(Sol),aspect_ratio=1,xmin=-1.2,xmax=1.2,ymin=-1.2,ymax=1.2)"
   ]
  },
  {
   "cell_type": "markdown",
   "id": "471be9e5",
   "metadata": {},
   "source": [
    "Let us see what happens for $B=2$ and $D=[]$."
   ]
  },
  {
   "cell_type": "code",
   "execution_count": null,
   "id": "ba2e0c0f",
   "metadata": {},
   "outputs": [],
   "source": []
  },
  {
   "cell_type": "markdown",
   "id": "ee5e9016",
   "metadata": {},
   "source": [
    "## References"
   ]
  },
  {
   "cell_type": "markdown",
   "id": "444a36db",
   "metadata": {},
   "source": [
    "[Bil97]    Yu. Bilu\n",
    "\n",
    "[Gua23]     R. Gualdi, ''_Limit heights and special values of the Riemann zeta function_'', arXiv preprint available at <https://arxiv.org>."
   ]
  },
  {
   "cell_type": "code",
   "execution_count": null,
   "id": "1b213490",
   "metadata": {},
   "outputs": [],
   "source": []
  }
 ],
 "metadata": {
  "kernelspec": {
   "display_name": "SageMath 9.7",
   "language": "sage",
   "name": "sagemath-9.7"
  },
  "language_info": {
   "codemirror_mode": {
    "name": "ipython",
    "version": 3
   },
   "file_extension": ".py",
   "mimetype": "text/x-python",
   "name": "python",
   "nbconvert_exporter": "python",
   "pygments_lexer": "ipython3",
   "version": "3.10.5"
  }
 },
 "nbformat": 4,
 "nbformat_minor": 5
}
